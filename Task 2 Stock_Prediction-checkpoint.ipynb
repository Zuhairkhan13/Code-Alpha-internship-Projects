{
 "cells": [
  {
   "cell_type": "code",
   "execution_count": 1,
   "id": "07712cb8-c0df-40c6-95ea-6e46f8c2c9fc",
   "metadata": {},
   "outputs": [],
   "source": [
    "import numpy as np\n",
    "import pandas as pd\n",
    "import yfinance as yf\n",
    "import matplotlib.pyplot as plt\n",
    "from sklearn.preprocessing import MinMaxScaler\n",
    "from tensorflow.keras.models import Sequential\n",
    "from tensorflow.keras.layers import LSTM, Dense, Dropout"
   ]
  },
  {
   "cell_type": "markdown",
   "id": "26ea2a29-aba5-4075-b76e-3e3941aa3bae",
   "metadata": {},
   "source": [
    "# Step 2: Load Stock Data (e.g., Apple stock - AAPL)"
   ]
  },
  {
   "cell_type": "code",
   "execution_count": 39,
   "id": "c0de4109-6fba-4153-9b32-c1a74818f221",
   "metadata": {},
   "outputs": [
    {
     "name": "stderr",
     "output_type": "stream",
     "text": [
      "[*********************100%***********************]  1 of 1 completed\n"
     ]
    }
   ],
   "source": [
    "ticker = 'AAPL' \n",
    "df = yf.download(ticker, start='2015-01-01', end='2023-10-01')"
   ]
  },
  {
   "cell_type": "code",
   "execution_count": 30,
   "id": "4fa529f5-39ad-4bac-a68c-f4ec0d3334d0",
   "metadata": {},
   "outputs": [
    {
     "data": {
      "text/html": [
       "<div>\n",
       "<style scoped>\n",
       "    .dataframe tbody tr th:only-of-type {\n",
       "        vertical-align: middle;\n",
       "    }\n",
       "\n",
       "    .dataframe tbody tr th {\n",
       "        vertical-align: top;\n",
       "    }\n",
       "\n",
       "    .dataframe thead tr th {\n",
       "        text-align: left;\n",
       "    }\n",
       "\n",
       "    .dataframe thead tr:last-of-type th {\n",
       "        text-align: right;\n",
       "    }\n",
       "</style>\n",
       "<table border=\"1\" class=\"dataframe\">\n",
       "  <thead>\n",
       "    <tr>\n",
       "      <th>Price</th>\n",
       "      <th>Adj Close</th>\n",
       "      <th>Close</th>\n",
       "      <th>High</th>\n",
       "      <th>Low</th>\n",
       "      <th>Open</th>\n",
       "      <th>Volume</th>\n",
       "    </tr>\n",
       "    <tr>\n",
       "      <th>Ticker</th>\n",
       "      <th>AAPL</th>\n",
       "      <th>AAPL</th>\n",
       "      <th>AAPL</th>\n",
       "      <th>AAPL</th>\n",
       "      <th>AAPL</th>\n",
       "      <th>AAPL</th>\n",
       "    </tr>\n",
       "    <tr>\n",
       "      <th>Date</th>\n",
       "      <th></th>\n",
       "      <th></th>\n",
       "      <th></th>\n",
       "      <th></th>\n",
       "      <th></th>\n",
       "      <th></th>\n",
       "    </tr>\n",
       "  </thead>\n",
       "  <tbody>\n",
       "    <tr>\n",
       "      <th>2015-01-02 00:00:00+00:00</th>\n",
       "      <td>24.373957</td>\n",
       "      <td>27.332500</td>\n",
       "      <td>27.860001</td>\n",
       "      <td>26.837500</td>\n",
       "      <td>27.847500</td>\n",
       "      <td>212818400</td>\n",
       "    </tr>\n",
       "    <tr>\n",
       "      <th>2015-01-05 00:00:00+00:00</th>\n",
       "      <td>23.687302</td>\n",
       "      <td>26.562500</td>\n",
       "      <td>27.162500</td>\n",
       "      <td>26.352501</td>\n",
       "      <td>27.072500</td>\n",
       "      <td>257142000</td>\n",
       "    </tr>\n",
       "    <tr>\n",
       "      <th>2015-01-06 00:00:00+00:00</th>\n",
       "      <td>23.689541</td>\n",
       "      <td>26.565001</td>\n",
       "      <td>26.857500</td>\n",
       "      <td>26.157499</td>\n",
       "      <td>26.635000</td>\n",
       "      <td>263188400</td>\n",
       "    </tr>\n",
       "    <tr>\n",
       "      <th>2015-01-07 00:00:00+00:00</th>\n",
       "      <td>24.021719</td>\n",
       "      <td>26.937500</td>\n",
       "      <td>27.049999</td>\n",
       "      <td>26.674999</td>\n",
       "      <td>26.799999</td>\n",
       "      <td>160423600</td>\n",
       "    </tr>\n",
       "    <tr>\n",
       "      <th>2015-01-08 00:00:00+00:00</th>\n",
       "      <td>24.944685</td>\n",
       "      <td>27.972500</td>\n",
       "      <td>28.037500</td>\n",
       "      <td>27.174999</td>\n",
       "      <td>27.307501</td>\n",
       "      <td>237458000</td>\n",
       "    </tr>\n",
       "    <tr>\n",
       "      <th>...</th>\n",
       "      <td>...</td>\n",
       "      <td>...</td>\n",
       "      <td>...</td>\n",
       "      <td>...</td>\n",
       "      <td>...</td>\n",
       "      <td>...</td>\n",
       "    </tr>\n",
       "    <tr>\n",
       "      <th>2023-09-25 00:00:00+00:00</th>\n",
       "      <td>175.183563</td>\n",
       "      <td>176.080002</td>\n",
       "      <td>176.970001</td>\n",
       "      <td>174.149994</td>\n",
       "      <td>174.199997</td>\n",
       "      <td>46172700</td>\n",
       "    </tr>\n",
       "    <tr>\n",
       "      <th>2023-09-26 00:00:00+00:00</th>\n",
       "      <td>171.084549</td>\n",
       "      <td>171.960007</td>\n",
       "      <td>175.199997</td>\n",
       "      <td>171.660004</td>\n",
       "      <td>174.820007</td>\n",
       "      <td>64588900</td>\n",
       "    </tr>\n",
       "    <tr>\n",
       "      <th>2023-09-27 00:00:00+00:00</th>\n",
       "      <td>169.562317</td>\n",
       "      <td>170.429993</td>\n",
       "      <td>173.039993</td>\n",
       "      <td>169.050003</td>\n",
       "      <td>172.619995</td>\n",
       "      <td>66921800</td>\n",
       "    </tr>\n",
       "    <tr>\n",
       "      <th>2023-09-28 00:00:00+00:00</th>\n",
       "      <td>169.821014</td>\n",
       "      <td>170.690002</td>\n",
       "      <td>172.029999</td>\n",
       "      <td>167.619995</td>\n",
       "      <td>169.339996</td>\n",
       "      <td>56294400</td>\n",
       "    </tr>\n",
       "    <tr>\n",
       "      <th>2023-09-29 00:00:00+00:00</th>\n",
       "      <td>170.338379</td>\n",
       "      <td>171.210007</td>\n",
       "      <td>173.070007</td>\n",
       "      <td>170.339996</td>\n",
       "      <td>172.020004</td>\n",
       "      <td>51814200</td>\n",
       "    </tr>\n",
       "  </tbody>\n",
       "</table>\n",
       "<p>2201 rows × 6 columns</p>\n",
       "</div>"
      ],
      "text/plain": [
       "Price                       Adj Close       Close        High         Low  \\\n",
       "Ticker                           AAPL        AAPL        AAPL        AAPL   \n",
       "Date                                                                        \n",
       "2015-01-02 00:00:00+00:00   24.373957   27.332500   27.860001   26.837500   \n",
       "2015-01-05 00:00:00+00:00   23.687302   26.562500   27.162500   26.352501   \n",
       "2015-01-06 00:00:00+00:00   23.689541   26.565001   26.857500   26.157499   \n",
       "2015-01-07 00:00:00+00:00   24.021719   26.937500   27.049999   26.674999   \n",
       "2015-01-08 00:00:00+00:00   24.944685   27.972500   28.037500   27.174999   \n",
       "...                               ...         ...         ...         ...   \n",
       "2023-09-25 00:00:00+00:00  175.183563  176.080002  176.970001  174.149994   \n",
       "2023-09-26 00:00:00+00:00  171.084549  171.960007  175.199997  171.660004   \n",
       "2023-09-27 00:00:00+00:00  169.562317  170.429993  173.039993  169.050003   \n",
       "2023-09-28 00:00:00+00:00  169.821014  170.690002  172.029999  167.619995   \n",
       "2023-09-29 00:00:00+00:00  170.338379  171.210007  173.070007  170.339996   \n",
       "\n",
       "Price                            Open     Volume  \n",
       "Ticker                           AAPL       AAPL  \n",
       "Date                                              \n",
       "2015-01-02 00:00:00+00:00   27.847500  212818400  \n",
       "2015-01-05 00:00:00+00:00   27.072500  257142000  \n",
       "2015-01-06 00:00:00+00:00   26.635000  263188400  \n",
       "2015-01-07 00:00:00+00:00   26.799999  160423600  \n",
       "2015-01-08 00:00:00+00:00   27.307501  237458000  \n",
       "...                               ...        ...  \n",
       "2023-09-25 00:00:00+00:00  174.199997   46172700  \n",
       "2023-09-26 00:00:00+00:00  174.820007   64588900  \n",
       "2023-09-27 00:00:00+00:00  172.619995   66921800  \n",
       "2023-09-28 00:00:00+00:00  169.339996   56294400  \n",
       "2023-09-29 00:00:00+00:00  172.020004   51814200  \n",
       "\n",
       "[2201 rows x 6 columns]"
      ]
     },
     "execution_count": 30,
     "metadata": {},
     "output_type": "execute_result"
    }
   ],
   "source": [
    "df"
   ]
  },
  {
   "cell_type": "code",
   "execution_count": 24,
   "id": "a154e5a1-bc58-4597-9971-40b55a5f1731",
   "metadata": {},
   "outputs": [
    {
     "data": {
      "text/html": [
       "<div>\n",
       "<style scoped>\n",
       "    .dataframe tbody tr th:only-of-type {\n",
       "        vertical-align: middle;\n",
       "    }\n",
       "\n",
       "    .dataframe tbody tr th {\n",
       "        vertical-align: top;\n",
       "    }\n",
       "\n",
       "    .dataframe thead tr th {\n",
       "        text-align: left;\n",
       "    }\n",
       "</style>\n",
       "<table border=\"1\" class=\"dataframe\">\n",
       "  <thead>\n",
       "    <tr>\n",
       "      <th>Price</th>\n",
       "      <th>Adj Close</th>\n",
       "      <th>Close</th>\n",
       "      <th>High</th>\n",
       "      <th>Low</th>\n",
       "      <th>Open</th>\n",
       "      <th>Volume</th>\n",
       "    </tr>\n",
       "    <tr>\n",
       "      <th>Ticker</th>\n",
       "      <th>AAPL</th>\n",
       "      <th>AAPL</th>\n",
       "      <th>AAPL</th>\n",
       "      <th>AAPL</th>\n",
       "      <th>AAPL</th>\n",
       "      <th>AAPL</th>\n",
       "    </tr>\n",
       "  </thead>\n",
       "  <tbody>\n",
       "    <tr>\n",
       "      <th>count</th>\n",
       "      <td>2201.000000</td>\n",
       "      <td>2201.000000</td>\n",
       "      <td>2201.000000</td>\n",
       "      <td>2201.000000</td>\n",
       "      <td>2201.000000</td>\n",
       "      <td>2.201000e+03</td>\n",
       "    </tr>\n",
       "    <tr>\n",
       "      <th>mean</th>\n",
       "      <td>78.933680</td>\n",
       "      <td>81.146529</td>\n",
       "      <td>81.991482</td>\n",
       "      <td>80.230957</td>\n",
       "      <td>81.087626</td>\n",
       "      <td>1.257878e+08</td>\n",
       "    </tr>\n",
       "    <tr>\n",
       "      <th>std</th>\n",
       "      <td>54.336428</td>\n",
       "      <td>54.123072</td>\n",
       "      <td>54.727236</td>\n",
       "      <td>53.477165</td>\n",
       "      <td>54.083788</td>\n",
       "      <td>6.803358e+07</td>\n",
       "    </tr>\n",
       "    <tr>\n",
       "      <th>min</th>\n",
       "      <td>20.720037</td>\n",
       "      <td>22.584999</td>\n",
       "      <td>22.917500</td>\n",
       "      <td>22.367500</td>\n",
       "      <td>22.500000</td>\n",
       "      <td>3.145820e+07</td>\n",
       "    </tr>\n",
       "    <tr>\n",
       "      <th>25%</th>\n",
       "      <td>32.478512</td>\n",
       "      <td>34.880001</td>\n",
       "      <td>34.994999</td>\n",
       "      <td>34.697498</td>\n",
       "      <td>34.825001</td>\n",
       "      <td>8.050760e+07</td>\n",
       "    </tr>\n",
       "    <tr>\n",
       "      <th>50%</th>\n",
       "      <td>50.013126</td>\n",
       "      <td>52.185001</td>\n",
       "      <td>52.445000</td>\n",
       "      <td>51.689999</td>\n",
       "      <td>52.125000</td>\n",
       "      <td>1.076898e+08</td>\n",
       "    </tr>\n",
       "    <tr>\n",
       "      <th>75%</th>\n",
       "      <td>133.950165</td>\n",
       "      <td>135.869995</td>\n",
       "      <td>137.399994</td>\n",
       "      <td>134.130005</td>\n",
       "      <td>136.029999</td>\n",
       "      <td>1.506180e+08</td>\n",
       "    </tr>\n",
       "    <tr>\n",
       "      <th>max</th>\n",
       "      <td>195.186279</td>\n",
       "      <td>196.449997</td>\n",
       "      <td>198.229996</td>\n",
       "      <td>195.279999</td>\n",
       "      <td>196.240005</td>\n",
       "      <td>6.488252e+08</td>\n",
       "    </tr>\n",
       "  </tbody>\n",
       "</table>\n",
       "</div>"
      ],
      "text/plain": [
       "Price     Adj Close        Close         High          Low         Open  \\\n",
       "Ticker         AAPL         AAPL         AAPL         AAPL         AAPL   \n",
       "count   2201.000000  2201.000000  2201.000000  2201.000000  2201.000000   \n",
       "mean      78.933680    81.146529    81.991482    80.230957    81.087626   \n",
       "std       54.336428    54.123072    54.727236    53.477165    54.083788   \n",
       "min       20.720037    22.584999    22.917500    22.367500    22.500000   \n",
       "25%       32.478512    34.880001    34.994999    34.697498    34.825001   \n",
       "50%       50.013126    52.185001    52.445000    51.689999    52.125000   \n",
       "75%      133.950165   135.869995   137.399994   134.130005   136.029999   \n",
       "max      195.186279   196.449997   198.229996   195.279999   196.240005   \n",
       "\n",
       "Price         Volume  \n",
       "Ticker          AAPL  \n",
       "count   2.201000e+03  \n",
       "mean    1.257878e+08  \n",
       "std     6.803358e+07  \n",
       "min     3.145820e+07  \n",
       "25%     8.050760e+07  \n",
       "50%     1.076898e+08  \n",
       "75%     1.506180e+08  \n",
       "max     6.488252e+08  "
      ]
     },
     "execution_count": 24,
     "metadata": {},
     "output_type": "execute_result"
    }
   ],
   "source": [
    "df.describe()"
   ]
  },
  {
   "cell_type": "code",
   "execution_count": 32,
   "id": "495039a2-aa8d-4800-bd1f-ab4392e6e0ef",
   "metadata": {},
   "outputs": [
    {
     "data": {
      "text/plain": [
       "Price      Ticker\n",
       "Adj Close  AAPL      0\n",
       "Close      AAPL      0\n",
       "High       AAPL      0\n",
       "Low        AAPL      0\n",
       "Open       AAPL      0\n",
       "Volume     AAPL      0\n",
       "dtype: int64"
      ]
     },
     "execution_count": 32,
     "metadata": {},
     "output_type": "execute_result"
    }
   ],
   "source": [
    "df.isnull().sum()"
   ]
  },
  {
   "cell_type": "code",
   "execution_count": 33,
   "id": "67589ffe-1677-4249-a892-be6e7ef0d09d",
   "metadata": {},
   "outputs": [
    {
     "data": {
      "text/plain": [
       "0"
      ]
     },
     "execution_count": 33,
     "metadata": {},
     "output_type": "execute_result"
    }
   ],
   "source": [
    "df.duplicated().sum()"
   ]
  },
  {
   "cell_type": "code",
   "execution_count": 34,
   "id": "ab4f2df5-a9dd-4c00-9d15-6cfdf29010bc",
   "metadata": {},
   "outputs": [
    {
     "data": {
      "text/plain": [
       "Price      Ticker\n",
       "Adj Close  AAPL      0.587673\n",
       "Close      AAPL      0.585777\n",
       "High       AAPL      0.582112\n",
       "Low        AAPL      0.590791\n",
       "Open       AAPL      0.586514\n",
       "Volume     AAPL      2.050141\n",
       "dtype: float64"
      ]
     },
     "execution_count": 34,
     "metadata": {},
     "output_type": "execute_result"
    }
   ],
   "source": [
    "df.skew()"
   ]
  },
  {
   "cell_type": "markdown",
   "id": "b4b98793-2339-4dcd-adb7-50dba38d9639",
   "metadata": {},
   "source": [
    "# Step 3: Preprocess Data"
   ]
  },
  {
   "cell_type": "code",
   "execution_count": 11,
   "id": "d9d5ae71-8b52-4b63-8f40-bbb8b4dd1276",
   "metadata": {},
   "outputs": [
    {
     "name": "stdout",
     "output_type": "stream",
     "text": [
      "[[0.02730568]\n",
      " [0.02287695]\n",
      " [0.02289133]\n",
      " [0.0250338 ]\n",
      " [0.03098669]]\n"
     ]
    }
   ],
   "source": [
    "data = df[['Close']].values\n",
    "scaler = MinMaxScaler(feature_range=(0, 1))\n",
    "scaled_data = scaler.fit_transform(data)\n",
    "print(scaled_data[:5])"
   ]
  },
  {
   "cell_type": "markdown",
   "id": "eb0aa893-120b-4b4c-8d08-56a481943dbe",
   "metadata": {},
   "source": [
    "# Step 4: Prepare Training Data"
   ]
  },
  {
   "cell_type": "code",
   "execution_count": 12,
   "id": "0dc1f1af-85a4-49da-a2c5-b1555fa6a228",
   "metadata": {},
   "outputs": [],
   "source": [
    "X_train, y_train = [], []\n",
    "train_size = int(len(scaled_data) * 0.8)\n",
    "\n",
    "for i in range(60, train_size):\n",
    "    X_train.append(scaled_data[i-60:i, 0])\n",
    "    y_train.append(scaled_data[i, 0])\n"
   ]
  },
  {
   "cell_type": "code",
   "execution_count": 13,
   "id": "457afb3c-bb2e-45ab-893a-b73b08504f26",
   "metadata": {},
   "outputs": [],
   "source": [
    "X_train, y_train = np.array(X_train), np.array(y_train)\n",
    "X_train = np.reshape(X_train, (X_train.shape[0], X_train.shape[1], 1))"
   ]
  },
  {
   "cell_type": "code",
   "execution_count": 14,
   "id": "651f83bf-c36a-462a-8df1-539b3b981f31",
   "metadata": {},
   "outputs": [
    {
     "name": "stderr",
     "output_type": "stream",
     "text": [
      "C:\\Users\\LIFE TIME GYM\\AppData\\Roaming\\Python\\Python312\\site-packages\\keras\\src\\layers\\rnn\\rnn.py:204: UserWarning: Do not pass an `input_shape`/`input_dim` argument to a layer. When using Sequential models, prefer using an `Input(shape)` object as the first layer in the model instead.\n",
      "  super().__init__(**kwargs)\n"
     ]
    }
   ],
   "source": [
    "# Step 5: Build the LSTM Model\n",
    "model = Sequential()\n",
    "model.add(LSTM(units=50, return_sequences=True, input_shape=(X_train.shape[1], 1)))\n",
    "model.add(Dropout(0.2))\n",
    "model.add(LSTM(units=50, return_sequences=False))\n",
    "model.add(Dropout(0.2))\n",
    "model.add(Dense(units=1))  # Prediction of 1 value (next day's price)\n",
    "\n",
    "model.compile(optimizer='adam', loss='mean_squared_error')"
   ]
  },
  {
   "cell_type": "markdown",
   "id": "9c0cf7e1-eacd-47cf-8a18-b2453d867073",
   "metadata": {},
   "source": [
    "# Step 6: Train the Model"
   ]
  },
  {
   "cell_type": "code",
   "execution_count": 41,
   "id": "e4c2d1f3-db30-4ec5-b76f-2efd362f3752",
   "metadata": {},
   "outputs": [
    {
     "name": "stdout",
     "output_type": "stream",
     "text": [
      "Epoch 1/5\n",
      "\u001b[1m54/54\u001b[0m \u001b[32m━━━━━━━━━━━━━━━━━━━━\u001b[0m\u001b[37m\u001b[0m \u001b[1m1s\u001b[0m 22ms/step - loss: 0.0012\n",
      "Epoch 2/5\n",
      "\u001b[1m54/54\u001b[0m \u001b[32m━━━━━━━━━━━━━━━━━━━━\u001b[0m\u001b[37m\u001b[0m \u001b[1m1s\u001b[0m 22ms/step - loss: 0.0016\n",
      "Epoch 3/5\n",
      "\u001b[1m54/54\u001b[0m \u001b[32m━━━━━━━━━━━━━━━━━━━━\u001b[0m\u001b[37m\u001b[0m \u001b[1m1s\u001b[0m 22ms/step - loss: 0.0010\n",
      "Epoch 4/5\n",
      "\u001b[1m54/54\u001b[0m \u001b[32m━━━━━━━━━━━━━━━━━━━━\u001b[0m\u001b[37m\u001b[0m \u001b[1m1s\u001b[0m 22ms/step - loss: 0.0015\n",
      "Epoch 5/5\n",
      "\u001b[1m54/54\u001b[0m \u001b[32m━━━━━━━━━━━━━━━━━━━━\u001b[0m\u001b[37m\u001b[0m \u001b[1m1s\u001b[0m 22ms/step - loss: 9.4538e-04\n"
     ]
    },
    {
     "data": {
      "text/plain": [
       "<keras.src.callbacks.history.History at 0x1d5731876b0>"
      ]
     },
     "execution_count": 41,
     "metadata": {},
     "output_type": "execute_result"
    }
   ],
   "source": [
    "model.fit(X_train, y_train, epochs=5, batch_size=32)"
   ]
  },
  {
   "cell_type": "markdown",
   "id": "e96d26d1-2cf3-4518-9616-9b66faaf4033",
   "metadata": {},
   "source": [
    "# Step 7: Prepare Test Data"
   ]
  },
  {
   "cell_type": "code",
   "execution_count": 35,
   "id": "7b5dc677-fcfb-476c-8814-309ac9364d4b",
   "metadata": {},
   "outputs": [],
   "source": [
    "test_data = scaled_data[train_size - 60:]\n",
    "X_test, y_test = [], data[train_size:]\n",
    "\n",
    "for i in range(60, len(test_data)):\n",
    "    X_test.append(test_data[i-60:i, 0])\n"
   ]
  },
  {
   "cell_type": "code",
   "execution_count": 36,
   "id": "52afa2a6-96ff-43ce-81fe-5189078aca9b",
   "metadata": {},
   "outputs": [],
   "source": [
    "X_test = np.array(X_test)\n",
    "X_test = np.reshape(X_test, (X_test.shape[0], X_test.shape[1], 1))\n"
   ]
  },
  {
   "cell_type": "markdown",
   "id": "707148b1-38d2-44ad-b59c-77d6c1308691",
   "metadata": {},
   "source": [
    "# Step 8: Make Predictions"
   ]
  },
  {
   "cell_type": "code",
   "execution_count": 37,
   "id": "ef0ea855-3b5e-4e3a-8de3-0e64247e3f5b",
   "metadata": {},
   "outputs": [
    {
     "name": "stdout",
     "output_type": "stream",
     "text": [
      "\u001b[1m14/14\u001b[0m \u001b[32m━━━━━━━━━━━━━━━━━━━━\u001b[0m\u001b[37m\u001b[0m \u001b[1m1s\u001b[0m 24ms/step\n"
     ]
    }
   ],
   "source": [
    "predictions = model.predict(X_test)\n",
    "predictions = scaler.inverse_transform(predictions)"
   ]
  },
  {
   "cell_type": "markdown",
   "id": "ca73e024-ef57-448b-8203-f84d934bd171",
   "metadata": {},
   "source": [
    "# Step 9: Visualize the Results"
   ]
  },
  {
   "cell_type": "code",
   "execution_count": 38,
   "id": "dd9b44a6-679f-4525-b656-c2d2f3cff076",
   "metadata": {},
   "outputs": [
    {
     "data": {
      "image/png": "[encoded data removed]",
      "text/plain": [
       "<Figure size 1000x600 with 1 Axes>"
      ]
     },
     "metadata": {},
     "output_type": "display_data"
    }
   ],
   "source": [
    "plt.figure(figsize=(10, 6))\n",
    "plt.plot(df.index[train_size:], y_test, label='Actual Price', color='blue')\n",
    "plt.plot(df.index[train_size:], predictions, label='Predicted Price', color='red')\n",
    "plt.title(f'{ticker} Stock Price Prediction')\n",
    "plt.xlabel('Date')\n",
    "plt.ylabel('Stock Price')\n",
    "plt.legend()\n",
    "plt.show()\n"
   ]
  },
  {
   "cell_type": "code",
   "execution_count": null,
   "id": "f04de28d-203e-4824-b25b-270d71b1d0cb",
   "metadata": {},
   "outputs": [],
   "source": []
  }
 ],
 "metadata": {
  "kernelspec": {
   "display_name": "Python 3 (ipykernel)",
   "language": "python",
   "name": "python3"
  },
  "language_info": {
   "codemirror_mode": {
    "name": "ipython",
    "version": 3
   },
   "file_extension": ".py",
   "mimetype": "text/x-python",
   "name": "python",
   "nbconvert_exporter": "python",
   "pygments_lexer": "ipython3",
   "version": "3.12.5"
  }
 },
 "nbformat": 4,
 "nbformat_minor": 5
}
